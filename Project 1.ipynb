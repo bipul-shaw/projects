{
 "cells": [
  {
   "cell_type": "markdown",
   "id": "0fb75e6a-ab1c-4a4d-87f5-6f56a4704206",
   "metadata": {},
   "source": [
    "# Predicting the likelihood of sub-Saharan African countries experiencing civil conflict by observing the shocks to economic growth\n"
   ]
  },
  {
   "cell_type": "markdown",
   "id": "44780ab9-4cda-4501-afa4-60df971f9146",
   "metadata": {
    "tags": []
   },
   "source": [
    "## INTRODUCTION\n",
    "\n",
    "This project is based on the data from Miguel, Edward; Satyanath, Shanker; Sergenti, Ernest, 2014, \"Replication data for: Economic Shocks and Civil Conflict: An Instrumental Variables Approach\". In this paper, the authors analyse the relationship between economic shocks and civil conflict in Sub-Saharan African countries from 1981-99. The objective of the paper was to observe if economic growth rates determine the outcome of civil conflict.  The authors have analysed many sub-groups of outcome variable, but we will only analyse __'any_prio'__ as a dependent variable which denotes any kind of internal conflict that has taken place. From the data, we will use only these control variables such as:  \n",
    "* __LPOPL1 -__\n",
    "Log of population lagged one year, with 0 for start of country series.\n",
    "Source: Fearon and Laitin (2003) \n",
    "* __POLITY2L -__\n",
    "Polity2 is revised polity score lagged one year, with 0 for start of country series.\n",
    "Source: Fearon and Laitin (2003)\n",
    "* __LMTNEST -__\n",
    "Log of Mtnest where Mtnest is percent mountainous terrain.\n",
    "Source: Fearon and Laitin (2003)\n",
    "* __OIL -__\n",
    "Oil Exporters.\n",
    "Source: Fearon and Laitin (2003)\n",
    "* __ETHFRAC -__\n",
    "Ethnic-linguistic fractionalization based on the Atlas Marodov Mira.\n",
    "Source: Fearon and Laitin (2003)\n",
    "* __RELFRAC -__\n",
    "Religious Fractionalization.\n",
    "Source: Fearon and Laitin (2003)\n",
    "* __GDPEN -__\n",
    "Per Capita GDP\n",
    "Source: Fearon and Laitin (2003)\n",
    "* __GDP_G -__\n",
    "Per capita GDP Growth\n",
    "Source: Fearon and Laitin (2003)\n",
    "* __GDP_G_L -__\n",
    "GDP_G lagged one year.\n",
    "Source: Fearon and Laitin (2003)\n",
    "* __YEAR -__\n",
    "From 1981-99\n",
    "\n",
    "The goal of this project is to compare and check which statistical  method is best for predicting the likelihood of civil conflict. By analyzing different statistical methods, we can determine their effectiveness in predicting civil conflict and identify the most accurate approach.\n",
    "First, we start with importing standard packages and checking the data.\n"
   ]
  },
  {
   "cell_type": "code",
   "execution_count": 1,
   "id": "ee51454f-6433-4b6d-b82f-51c315764434",
   "metadata": {},
   "outputs": [
    {
     "name": "stdout",
     "output_type": "stream",
     "text": [
      "Number of observations : 743\n"
     ]
    },
    {
     "data": {
      "text/html": [
       "<div>\n",
       "<style scoped>\n",
       "    .dataframe tbody tr th:only-of-type {\n",
       "        vertical-align: middle;\n",
       "    }\n",
       "\n",
       "    .dataframe tbody tr th {\n",
       "        vertical-align: top;\n",
       "    }\n",
       "\n",
       "    .dataframe thead th {\n",
       "        text-align: right;\n",
       "    }\n",
       "</style>\n",
       "<table border=\"1\" class=\"dataframe\">\n",
       "  <thead>\n",
       "    <tr style=\"text-align: right;\">\n",
       "      <th></th>\n",
       "      <th></th>\n",
       "      <th>any_prio</th>\n",
       "      <th>lpopl1</th>\n",
       "      <th>lmtnest</th>\n",
       "      <th>Oil</th>\n",
       "      <th>ethfrac</th>\n",
       "      <th>relfrac</th>\n",
       "      <th>polity2l</th>\n",
       "      <th>gdp_g</th>\n",
       "      <th>gdp_g_l</th>\n",
       "      <th>year</th>\n",
       "    </tr>\n",
       "    <tr>\n",
       "      <th>country_code</th>\n",
       "      <th>year</th>\n",
       "      <th></th>\n",
       "      <th></th>\n",
       "      <th></th>\n",
       "      <th></th>\n",
       "      <th></th>\n",
       "      <th></th>\n",
       "      <th></th>\n",
       "      <th></th>\n",
       "      <th></th>\n",
       "      <th></th>\n",
       "    </tr>\n",
       "  </thead>\n",
       "  <tbody>\n",
       "    <tr>\n",
       "      <th rowspan=\"5\" valign=\"top\">GNB</th>\n",
       "      <th>1981</th>\n",
       "      <td>No</td>\n",
       "      <td>6.695799</td>\n",
       "      <td>0.000000</td>\n",
       "      <td>0</td>\n",
       "      <td>0.803757</td>\n",
       "      <td>0.545</td>\n",
       "      <td>-7</td>\n",
       "      <td>0.216561</td>\n",
       "      <td>-0.152878</td>\n",
       "      <td>1981</td>\n",
       "    </tr>\n",
       "    <tr>\n",
       "      <th>1982</th>\n",
       "      <td>No</td>\n",
       "      <td>6.714170</td>\n",
       "      <td>0.000000</td>\n",
       "      <td>0</td>\n",
       "      <td>0.803757</td>\n",
       "      <td>0.545</td>\n",
       "      <td>-7</td>\n",
       "      <td>0.104712</td>\n",
       "      <td>0.216561</td>\n",
       "      <td>1982</td>\n",
       "    </tr>\n",
       "    <tr>\n",
       "      <th>1983</th>\n",
       "      <td>No</td>\n",
       "      <td>6.732211</td>\n",
       "      <td>0.000000</td>\n",
       "      <td>0</td>\n",
       "      <td>0.803757</td>\n",
       "      <td>0.545</td>\n",
       "      <td>-7</td>\n",
       "      <td>-0.042654</td>\n",
       "      <td>0.104712</td>\n",
       "      <td>1983</td>\n",
       "    </tr>\n",
       "    <tr>\n",
       "      <th>1984</th>\n",
       "      <td>No</td>\n",
       "      <td>6.749931</td>\n",
       "      <td>0.000000</td>\n",
       "      <td>0</td>\n",
       "      <td>0.803757</td>\n",
       "      <td>0.545</td>\n",
       "      <td>-7</td>\n",
       "      <td>0.034653</td>\n",
       "      <td>-0.042654</td>\n",
       "      <td>1984</td>\n",
       "    </tr>\n",
       "    <tr>\n",
       "      <th>1985</th>\n",
       "      <td>No</td>\n",
       "      <td>6.768493</td>\n",
       "      <td>0.000000</td>\n",
       "      <td>0</td>\n",
       "      <td>0.803757</td>\n",
       "      <td>0.545</td>\n",
       "      <td>-8</td>\n",
       "      <td>0.036683</td>\n",
       "      <td>0.034653</td>\n",
       "      <td>1985</td>\n",
       "    </tr>\n",
       "    <tr>\n",
       "      <th>...</th>\n",
       "      <th>...</th>\n",
       "      <td>...</td>\n",
       "      <td>...</td>\n",
       "      <td>...</td>\n",
       "      <td>...</td>\n",
       "      <td>...</td>\n",
       "      <td>...</td>\n",
       "      <td>...</td>\n",
       "      <td>...</td>\n",
       "      <td>...</td>\n",
       "      <td>...</td>\n",
       "    </tr>\n",
       "    <tr>\n",
       "      <th rowspan=\"5\" valign=\"top\">NGA</th>\n",
       "      <th>1989</th>\n",
       "      <td>No</td>\n",
       "      <td>11.417141</td>\n",
       "      <td>1.223775</td>\n",
       "      <td>1</td>\n",
       "      <td>0.868932</td>\n",
       "      <td>0.580</td>\n",
       "      <td>-7</td>\n",
       "      <td>0.012766</td>\n",
       "      <td>0.043285</td>\n",
       "      <td>1989</td>\n",
       "    </tr>\n",
       "    <tr>\n",
       "      <th>1990</th>\n",
       "      <td>No</td>\n",
       "      <td>11.445770</td>\n",
       "      <td>1.223775</td>\n",
       "      <td>1</td>\n",
       "      <td>0.868932</td>\n",
       "      <td>0.580</td>\n",
       "      <td>-5</td>\n",
       "      <td>0.045168</td>\n",
       "      <td>0.012766</td>\n",
       "      <td>1990</td>\n",
       "    </tr>\n",
       "    <tr>\n",
       "      <th>1991</th>\n",
       "      <td>No</td>\n",
       "      <td>11.474215</td>\n",
       "      <td>1.223775</td>\n",
       "      <td>1</td>\n",
       "      <td>0.868932</td>\n",
       "      <td>0.580</td>\n",
       "      <td>-5</td>\n",
       "      <td>0.045226</td>\n",
       "      <td>0.045168</td>\n",
       "      <td>1991</td>\n",
       "    </tr>\n",
       "    <tr>\n",
       "      <th>1992</th>\n",
       "      <td>No</td>\n",
       "      <td>11.502704</td>\n",
       "      <td>1.223775</td>\n",
       "      <td>1</td>\n",
       "      <td>0.868932</td>\n",
       "      <td>0.580</td>\n",
       "      <td>-5</td>\n",
       "      <td>-0.059615</td>\n",
       "      <td>0.045226</td>\n",
       "      <td>1992</td>\n",
       "    </tr>\n",
       "    <tr>\n",
       "      <th>1993</th>\n",
       "      <td>No</td>\n",
       "      <td>11.532728</td>\n",
       "      <td>1.223775</td>\n",
       "      <td>1</td>\n",
       "      <td>0.868932</td>\n",
       "      <td>0.580</td>\n",
       "      <td>-5</td>\n",
       "      <td>-0.007316</td>\n",
       "      <td>-0.059615</td>\n",
       "      <td>1993</td>\n",
       "    </tr>\n",
       "  </tbody>\n",
       "</table>\n",
       "<p>290 rows × 10 columns</p>\n",
       "</div>"
      ],
      "text/plain": [
       "                  any_prio     lpopl1   lmtnest Oil   ethfrac  relfrac  \\\n",
       "country_code year                                                        \n",
       "GNB          1981       No   6.695799  0.000000   0  0.803757    0.545   \n",
       "             1982       No   6.714170  0.000000   0  0.803757    0.545   \n",
       "             1983       No   6.732211  0.000000   0  0.803757    0.545   \n",
       "             1984       No   6.749931  0.000000   0  0.803757    0.545   \n",
       "             1985       No   6.768493  0.000000   0  0.803757    0.545   \n",
       "...                    ...        ...       ...  ..       ...      ...   \n",
       "NGA          1989       No  11.417141  1.223775   1  0.868932    0.580   \n",
       "             1990       No  11.445770  1.223775   1  0.868932    0.580   \n",
       "             1991       No  11.474215  1.223775   1  0.868932    0.580   \n",
       "             1992       No  11.502704  1.223775   1  0.868932    0.580   \n",
       "             1993       No  11.532728  1.223775   1  0.868932    0.580   \n",
       "\n",
       "                   polity2l     gdp_g   gdp_g_l  year  \n",
       "country_code year                                      \n",
       "GNB          1981        -7  0.216561 -0.152878  1981  \n",
       "             1982        -7  0.104712  0.216561  1982  \n",
       "             1983        -7 -0.042654  0.104712  1983  \n",
       "             1984        -7  0.034653 -0.042654  1984  \n",
       "             1985        -8  0.036683  0.034653  1985  \n",
       "...                     ...       ...       ...   ...  \n",
       "NGA          1989        -7  0.012766  0.043285  1989  \n",
       "             1990        -5  0.045168  0.012766  1990  \n",
       "             1991        -5  0.045226  0.045168  1991  \n",
       "             1992        -5 -0.059615  0.045226  1992  \n",
       "             1993        -5 -0.007316 -0.059615  1993  \n",
       "\n",
       "[290 rows x 10 columns]"
      ]
     },
     "execution_count": 1,
     "metadata": {},
     "output_type": "execute_result"
    }
   ],
   "source": [
    "import pandas as pd\n",
    "from matplotlib.pyplot import subplots\n",
    "import numpy as np\n",
    "import statsmodels.api as sm\n",
    "import seaborn as sns\n",
    "import matplotlib.pyplot as plt\n",
    "from ISLP.models import (ModelSpec as MS,\n",
    "                         summarize)\n",
    "from ISLP import confusion_table\n",
    "from ISLP.models import contrast\n",
    "from sklearn.discriminant_analysis import \\\n",
    "     (LinearDiscriminantAnalysis as LDA,\n",
    "      QuadraticDiscriminantAnalysis as QDA)\n",
    "from sklearn.metrics import confusion_matrix\n",
    "from sklearn.naive_bayes import GaussianNB\n",
    "from sklearn.neighbors import KNeighborsClassifier\n",
    "from sklearn.preprocessing import StandardScaler\n",
    "from sklearn.model_selection import train_test_split\n",
    "from sklearn.linear_model import LogisticRegression\n",
    "data = pd.read_excel('Tabular Data.xlsx',usecols=['any_prio','gdp_g','gdp_g_l','polity2l','ethfrac','relfrac','Oil','lmtnest','lpopl1','year','country_code'],index_col=(1,0))\n",
    "data['any_prio'] = np.where(data[\"any_prio\"] == 0, 'No', 'Yes')\n",
    "years = data.index.get_level_values('year').to_list()\n",
    "data['year'] = years\n",
    "data['Oil']=pd.Categorical(data['Oil'])\n",
    "print('Number of observations :',data.shape[0])\n",
    "data[:290]\n"
   ]
  },
  {
   "cell_type": "markdown",
   "id": "147fdc59-d02e-4aec-8796-0f5fa3cb6d57",
   "metadata": {},
   "source": [
    "Next, we  will check if there is any missing data."
   ]
  },
  {
   "cell_type": "code",
   "execution_count": 2,
   "id": "d2f0f031-b676-4487-ac69-f2dd8373e523",
   "metadata": {
    "tags": []
   },
   "outputs": [
    {
     "data": {
      "text/plain": [
       "0"
      ]
     },
     "execution_count": 2,
     "metadata": {},
     "output_type": "execute_result"
    }
   ],
   "source": [
    "data.isna().sum().sum()"
   ]
  },
  {
   "cell_type": "markdown",
   "id": "5a1b1c12-134b-46b6-a801-ec1ce3396bab",
   "metadata": {},
   "source": [
    "Since, there is no missing data. We can move  on to analyse the data. \n",
    "We will start off by checking the correlation between the variables."
   ]
  },
  {
   "cell_type": "code",
   "execution_count": 3,
   "id": "449758f9-d222-4f73-942b-4cac1ef97d4d",
   "metadata": {
    "tags": []
   },
   "outputs": [
    {
     "data": {
      "text/html": [
       "<div>\n",
       "<style scoped>\n",
       "    .dataframe tbody tr th:only-of-type {\n",
       "        vertical-align: middle;\n",
       "    }\n",
       "\n",
       "    .dataframe tbody tr th {\n",
       "        vertical-align: top;\n",
       "    }\n",
       "\n",
       "    .dataframe thead th {\n",
       "        text-align: right;\n",
       "    }\n",
       "</style>\n",
       "<table border=\"1\" class=\"dataframe\">\n",
       "  <thead>\n",
       "    <tr style=\"text-align: right;\">\n",
       "      <th></th>\n",
       "      <th>lpopl1</th>\n",
       "      <th>lmtnest</th>\n",
       "      <th>ethfrac</th>\n",
       "      <th>relfrac</th>\n",
       "      <th>polity2l</th>\n",
       "      <th>gdp_g</th>\n",
       "      <th>gdp_g_l</th>\n",
       "      <th>year</th>\n",
       "    </tr>\n",
       "  </thead>\n",
       "  <tbody>\n",
       "    <tr>\n",
       "      <th>lpopl1</th>\n",
       "      <td>1.000000</td>\n",
       "      <td>0.292830</td>\n",
       "      <td>0.308754</td>\n",
       "      <td>0.407609</td>\n",
       "      <td>0.015321</td>\n",
       "      <td>-0.003169</td>\n",
       "      <td>-0.007789</td>\n",
       "      <td>0.134870</td>\n",
       "    </tr>\n",
       "    <tr>\n",
       "      <th>lmtnest</th>\n",
       "      <td>0.292830</td>\n",
       "      <td>1.000000</td>\n",
       "      <td>-0.398760</td>\n",
       "      <td>0.249697</td>\n",
       "      <td>-0.113527</td>\n",
       "      <td>0.011307</td>\n",
       "      <td>0.009360</td>\n",
       "      <td>0.006682</td>\n",
       "    </tr>\n",
       "    <tr>\n",
       "      <th>ethfrac</th>\n",
       "      <td>0.308754</td>\n",
       "      <td>-0.398760</td>\n",
       "      <td>1.000000</td>\n",
       "      <td>0.289918</td>\n",
       "      <td>0.019375</td>\n",
       "      <td>-0.014021</td>\n",
       "      <td>-0.013499</td>\n",
       "      <td>0.014631</td>\n",
       "    </tr>\n",
       "    <tr>\n",
       "      <th>relfrac</th>\n",
       "      <td>0.407609</td>\n",
       "      <td>0.249697</td>\n",
       "      <td>0.289918</td>\n",
       "      <td>1.000000</td>\n",
       "      <td>-0.085619</td>\n",
       "      <td>-0.008577</td>\n",
       "      <td>-0.005234</td>\n",
       "      <td>0.025737</td>\n",
       "    </tr>\n",
       "    <tr>\n",
       "      <th>polity2l</th>\n",
       "      <td>0.015321</td>\n",
       "      <td>-0.113527</td>\n",
       "      <td>0.019375</td>\n",
       "      <td>-0.085619</td>\n",
       "      <td>1.000000</td>\n",
       "      <td>0.032652</td>\n",
       "      <td>0.042317</td>\n",
       "      <td>0.359512</td>\n",
       "    </tr>\n",
       "    <tr>\n",
       "      <th>gdp_g</th>\n",
       "      <td>-0.003169</td>\n",
       "      <td>0.011307</td>\n",
       "      <td>-0.014021</td>\n",
       "      <td>-0.008577</td>\n",
       "      <td>0.032652</td>\n",
       "      <td>1.000000</td>\n",
       "      <td>0.031111</td>\n",
       "      <td>0.056196</td>\n",
       "    </tr>\n",
       "    <tr>\n",
       "      <th>gdp_g_l</th>\n",
       "      <td>-0.007789</td>\n",
       "      <td>0.009360</td>\n",
       "      <td>-0.013499</td>\n",
       "      <td>-0.005234</td>\n",
       "      <td>0.042317</td>\n",
       "      <td>0.031111</td>\n",
       "      <td>1.000000</td>\n",
       "      <td>0.055254</td>\n",
       "    </tr>\n",
       "    <tr>\n",
       "      <th>year</th>\n",
       "      <td>0.134870</td>\n",
       "      <td>0.006682</td>\n",
       "      <td>0.014631</td>\n",
       "      <td>0.025737</td>\n",
       "      <td>0.359512</td>\n",
       "      <td>0.056196</td>\n",
       "      <td>0.055254</td>\n",
       "      <td>1.000000</td>\n",
       "    </tr>\n",
       "  </tbody>\n",
       "</table>\n",
       "</div>"
      ],
      "text/plain": [
       "            lpopl1   lmtnest   ethfrac   relfrac  polity2l     gdp_g  \\\n",
       "lpopl1    1.000000  0.292830  0.308754  0.407609  0.015321 -0.003169   \n",
       "lmtnest   0.292830  1.000000 -0.398760  0.249697 -0.113527  0.011307   \n",
       "ethfrac   0.308754 -0.398760  1.000000  0.289918  0.019375 -0.014021   \n",
       "relfrac   0.407609  0.249697  0.289918  1.000000 -0.085619 -0.008577   \n",
       "polity2l  0.015321 -0.113527  0.019375 -0.085619  1.000000  0.032652   \n",
       "gdp_g    -0.003169  0.011307 -0.014021 -0.008577  0.032652  1.000000   \n",
       "gdp_g_l  -0.007789  0.009360 -0.013499 -0.005234  0.042317  0.031111   \n",
       "year      0.134870  0.006682  0.014631  0.025737  0.359512  0.056196   \n",
       "\n",
       "           gdp_g_l      year  \n",
       "lpopl1   -0.007789  0.134870  \n",
       "lmtnest   0.009360  0.006682  \n",
       "ethfrac  -0.013499  0.014631  \n",
       "relfrac  -0.005234  0.025737  \n",
       "polity2l  0.042317  0.359512  \n",
       "gdp_g     0.031111  0.056196  \n",
       "gdp_g_l   1.000000  0.055254  \n",
       "year      0.055254  1.000000  "
      ]
     },
     "execution_count": 3,
     "metadata": {},
     "output_type": "execute_result"
    }
   ],
   "source": [
    "data.corr(numeric_only=True)"
   ]
  },
  {
   "cell_type": "markdown",
   "id": "fd698eb7-6624-4eee-9763-680c2f8545bb",
   "metadata": {},
   "source": [
    "Seems like there is no significant correlation between the variables except population and religious fractions as higher population will have more religious diversity. Now, we will split the data by most common method which is 2/3 for training the model and remaining 1/3 for testing. So, for training we will use all the observations before 1994 and test it on the remaining observations. \n",
    "\n",
    "### LOGISTIC MODEL\n",
    "\n",
    "First, we will use logistic model and see how accurately it predicts."
   ]
  },
  {
   "cell_type": "code",
   "execution_count": 17,
   "id": "649e6294-94df-465b-96ee-5deea986ab36",
   "metadata": {
    "tags": []
   },
   "outputs": [
    {
     "data": {
      "text/html": [
       "<table class=\"simpletable\">\n",
       "<caption>Generalized Linear Model Regression Results</caption>\n",
       "<tr>\n",
       "  <th>Dep. Variable:</th>       <td>any_prio</td>     <th>  No. Observations:  </th>  <td>   517</td> \n",
       "</tr>\n",
       "<tr>\n",
       "  <th>Model:</th>                  <td>GLM</td>       <th>  Df Residuals:      </th>  <td>   508</td> \n",
       "</tr>\n",
       "<tr>\n",
       "  <th>Model Family:</th>        <td>Binomial</td>     <th>  Df Model:          </th>  <td>     8</td> \n",
       "</tr>\n",
       "<tr>\n",
       "  <th>Link Function:</th>         <td>Logit</td>      <th>  Scale:             </th> <td>  1.0000</td>\n",
       "</tr>\n",
       "<tr>\n",
       "  <th>Method:</th>                <td>IRLS</td>       <th>  Log-Likelihood:    </th> <td> -249.97</td>\n",
       "</tr>\n",
       "<tr>\n",
       "  <th>Date:</th>            <td>Thu, 16 Nov 2023</td> <th>  Deviance:          </th> <td>  499.94</td>\n",
       "</tr>\n",
       "<tr>\n",
       "  <th>Time:</th>                <td>20:24:48</td>     <th>  Pearson chi2:      </th>  <td>  470.</td> \n",
       "</tr>\n",
       "<tr>\n",
       "  <th>No. Iterations:</th>          <td>5</td>        <th>  Pseudo R-squ. (CS):</th>  <td>0.1659</td> \n",
       "</tr>\n",
       "<tr>\n",
       "  <th>Covariance Type:</th>     <td>nonrobust</td>    <th>                     </th>     <td> </td>   \n",
       "</tr>\n",
       "</table>\n",
       "<table class=\"simpletable\">\n",
       "<tr>\n",
       "      <td></td>         <th>coef</th>     <th>std err</th>      <th>z</th>      <th>P>|z|</th>  <th>[0.025</th>    <th>0.975]</th>  \n",
       "</tr>\n",
       "<tr>\n",
       "  <th>intercept</th> <td>   -7.7697</td> <td>    0.998</td> <td>   -7.789</td> <td> 0.000</td> <td>   -9.725</td> <td>   -5.814</td>\n",
       "</tr>\n",
       "<tr>\n",
       "  <th>lpopl1</th>    <td>    0.6943</td> <td>    0.127</td> <td>    5.447</td> <td> 0.000</td> <td>    0.444</td> <td>    0.944</td>\n",
       "</tr>\n",
       "<tr>\n",
       "  <th>lmtnest</th>   <td>    0.4053</td> <td>    0.106</td> <td>    3.808</td> <td> 0.000</td> <td>    0.197</td> <td>    0.614</td>\n",
       "</tr>\n",
       "<tr>\n",
       "  <th>Oil[1]</th>    <td>   -0.5595</td> <td>    0.378</td> <td>   -1.481</td> <td> 0.139</td> <td>   -1.300</td> <td>    0.181</td>\n",
       "</tr>\n",
       "<tr>\n",
       "  <th>ethfrac</th>   <td>    1.1698</td> <td>    0.592</td> <td>    1.978</td> <td> 0.048</td> <td>    0.010</td> <td>    2.329</td>\n",
       "</tr>\n",
       "<tr>\n",
       "  <th>relfrac</th>   <td>   -1.4134</td> <td>    0.728</td> <td>   -1.942</td> <td> 0.052</td> <td>   -2.840</td> <td>    0.013</td>\n",
       "</tr>\n",
       "<tr>\n",
       "  <th>polity2l</th>  <td>    0.0379</td> <td>    0.024</td> <td>    1.555</td> <td> 0.120</td> <td>   -0.010</td> <td>    0.086</td>\n",
       "</tr>\n",
       "<tr>\n",
       "  <th>gdp_g</th>     <td>   -0.7071</td> <td>    1.458</td> <td>   -0.485</td> <td> 0.628</td> <td>   -3.565</td> <td>    2.151</td>\n",
       "</tr>\n",
       "<tr>\n",
       "  <th>gdp_g_l</th>   <td>    0.3358</td> <td>    1.452</td> <td>    0.231</td> <td> 0.817</td> <td>   -2.509</td> <td>    3.181</td>\n",
       "</tr>\n",
       "</table>"
      ],
      "text/latex": [
       "\\begin{center}\n",
       "\\begin{tabular}{lclc}\n",
       "\\toprule\n",
       "\\textbf{Dep. Variable:}   &    any\\_prio     & \\textbf{  No. Observations:  } &      517    \\\\\n",
       "\\textbf{Model:}           &       GLM        & \\textbf{  Df Residuals:      } &      508    \\\\\n",
       "\\textbf{Model Family:}    &     Binomial     & \\textbf{  Df Model:          } &        8    \\\\\n",
       "\\textbf{Link Function:}   &      Logit       & \\textbf{  Scale:             } &    1.0000   \\\\\n",
       "\\textbf{Method:}          &       IRLS       & \\textbf{  Log-Likelihood:    } &   -249.97   \\\\\n",
       "\\textbf{Date:}            & Thu, 16 Nov 2023 & \\textbf{  Deviance:          } &    499.94   \\\\\n",
       "\\textbf{Time:}            &     20:24:48     & \\textbf{  Pearson chi2:      } &     470.    \\\\\n",
       "\\textbf{No. Iterations:}  &        5         & \\textbf{  Pseudo R-squ. (CS):} &   0.1659    \\\\\n",
       "\\textbf{Covariance Type:} &    nonrobust     & \\textbf{                     } &             \\\\\n",
       "\\bottomrule\n",
       "\\end{tabular}\n",
       "\\begin{tabular}{lcccccc}\n",
       "                   & \\textbf{coef} & \\textbf{std err} & \\textbf{z} & \\textbf{P$> |$z$|$} & \\textbf{[0.025} & \\textbf{0.975]}  \\\\\n",
       "\\midrule\n",
       "\\textbf{intercept} &      -7.7697  &        0.998     &    -7.789  &         0.000        &       -9.725    &       -5.814     \\\\\n",
       "\\textbf{lpopl1}    &       0.6943  &        0.127     &     5.447  &         0.000        &        0.444    &        0.944     \\\\\n",
       "\\textbf{lmtnest}   &       0.4053  &        0.106     &     3.808  &         0.000        &        0.197    &        0.614     \\\\\n",
       "\\textbf{Oil[1]}    &      -0.5595  &        0.378     &    -1.481  &         0.139        &       -1.300    &        0.181     \\\\\n",
       "\\textbf{ethfrac}   &       1.1698  &        0.592     &     1.978  &         0.048        &        0.010    &        2.329     \\\\\n",
       "\\textbf{relfrac}   &      -1.4134  &        0.728     &    -1.942  &         0.052        &       -2.840    &        0.013     \\\\\n",
       "\\textbf{polity2l}  &       0.0379  &        0.024     &     1.555  &         0.120        &       -0.010    &        0.086     \\\\\n",
       "\\textbf{gdp\\_g}    &      -0.7071  &        1.458     &    -0.485  &         0.628        &       -3.565    &        2.151     \\\\\n",
       "\\textbf{gdp\\_g\\_l} &       0.3358  &        1.452     &     0.231  &         0.817        &       -2.509    &        3.181     \\\\\n",
       "\\bottomrule\n",
       "\\end{tabular}\n",
       "%\\caption{Generalized Linear Model Regression Results}\n",
       "\\end{center}"
      ],
      "text/plain": [
       "<class 'statsmodels.iolib.summary.Summary'>\n",
       "\"\"\"\n",
       "                 Generalized Linear Model Regression Results                  \n",
       "==============================================================================\n",
       "Dep. Variable:               any_prio   No. Observations:                  517\n",
       "Model:                            GLM   Df Residuals:                      508\n",
       "Model Family:                Binomial   Df Model:                            8\n",
       "Link Function:                  Logit   Scale:                          1.0000\n",
       "Method:                          IRLS   Log-Likelihood:                -249.97\n",
       "Date:                Thu, 16 Nov 2023   Deviance:                       499.94\n",
       "Time:                        20:24:48   Pearson chi2:                     470.\n",
       "No. Iterations:                     5   Pseudo R-squ. (CS):             0.1659\n",
       "Covariance Type:            nonrobust                                         \n",
       "==============================================================================\n",
       "                 coef    std err          z      P>|z|      [0.025      0.975]\n",
       "------------------------------------------------------------------------------\n",
       "intercept     -7.7697      0.998     -7.789      0.000      -9.725      -5.814\n",
       "lpopl1         0.6943      0.127      5.447      0.000       0.444       0.944\n",
       "lmtnest        0.4053      0.106      3.808      0.000       0.197       0.614\n",
       "Oil[1]        -0.5595      0.378     -1.481      0.139      -1.300       0.181\n",
       "ethfrac        1.1698      0.592      1.978      0.048       0.010       2.329\n",
       "relfrac       -1.4134      0.728     -1.942      0.052      -2.840       0.013\n",
       "polity2l       0.0379      0.024      1.555      0.120      -0.010       0.086\n",
       "gdp_g         -0.7071      1.458     -0.485      0.628      -3.565       2.151\n",
       "gdp_g_l        0.3358      1.452      0.231      0.817      -2.509       3.181\n",
       "==============================================================================\n",
       "\"\"\""
      ]
     },
     "execution_count": 17,
     "metadata": {},
     "output_type": "execute_result"
    }
   ],
   "source": [
    "train= (data.year<1994)\n",
    "x=MS(data.columns.drop(['any_prio','year'])).fit_transform(data)\n",
    "y=data['any_prio']== 'Yes'\n",
    "train_x, test_x = x.loc[train], x.loc[~train]\n",
    "train_y,test_y =  y.loc[train],y.loc[~train]     \n",
    "x=MS(data.columns.drop(['any_prio','year'])).fit_transform(data)\n",
    "train_x, test_x = x.loc[train], x.loc[~train]\n",
    "train_y,test_y =  y.loc[train],y.loc[~train]     \n",
    "glm = sm.GLM(train_y,\n",
    "             train_x,\n",
    "             family=sm.families.Binomial())\n",
    "results=glm.fit()\n",
    "results.summary()"
   ]
  },
  {
   "cell_type": "markdown",
   "id": "f7f6b8e9-a6bc-4505-826d-c8ef636c84c5",
   "metadata": {
    "tags": []
   },
   "source": [
    "Lets see how much accurately this model predicts.\n"
   ]
  },
  {
   "cell_type": "code",
   "execution_count": 19,
   "id": "6c4b7628-c1d4-481f-a2f7-c413c4fa120a",
   "metadata": {
    "tags": []
   },
   "outputs": [
    {
     "data": {
      "text/plain": [
       "[Text(0, 0.5, 'No'), Text(0, 1.5, 'Yes')]"
      ]
     },
     "execution_count": 19,
     "metadata": {},
     "output_type": "execute_result"
    },
    {
     "data": {
      "image/png": "[encoded data removed]",
      "text/plain": [
       "<Figure size 640x480 with 2 Axes>"
      ]
     },
     "metadata": {},
     "output_type": "display_data"
    }
   ],
   "source": [
    "probs= results.predict(exog=test_x)\n",
    "pred=np.array(['No']*226).astype('<U3')\n",
    "pred[probs>0.5]='Yes'\n",
    "cm=confusion_matrix(data.any_prio.loc[~train],pred)\n",
    "\n",
    "ax= plt.subplot()\n",
    "sns.heatmap(cm, annot=True, fmt='g', ax=ax);  #annot=True to annotate cells, ftm='g' to disable scientific notation\n",
    "\n",
    "# labels, title and ticks\n",
    "ax.set_xlabel('Predicted labels');ax.set_ylabel('True labels'); \n",
    "ax.set_title('Confusion Matrix'); \n",
    "ax.xaxis.set_ticklabels(['No', 'Yes']); ax.yaxis.set_ticklabels(['No', 'Yes'])"
   ]
  },
  {
   "cell_type": "markdown",
   "id": "bd48db8a-096b-4433-8ce8-601e588497ea",
   "metadata": {},
   "source": [
    "Though accuracy of the model is 62.83%, it only prediicts 17% of yes's correctly. \n",
    "\n",
    "We will remove the highly insignificant variables in the model and run the regression again.\n"
   ]
  },
  {
   "cell_type": "code",
   "execution_count": 5,
   "id": "c82e0b27-cd34-49a9-b13d-e6a0fbc6edad",
   "metadata": {
    "tags": []
   },
   "outputs": [
    {
     "data": {
      "text/html": [
       "<table class=\"simpletable\">\n",
       "<caption>Generalized Linear Model Regression Results</caption>\n",
       "<tr>\n",
       "  <th>Dep. Variable:</th>       <td>any_prio</td>     <th>  No. Observations:  </th>  <td>   517</td> \n",
       "</tr>\n",
       "<tr>\n",
       "  <th>Model:</th>                  <td>GLM</td>       <th>  Df Residuals:      </th>  <td>   512</td> \n",
       "</tr>\n",
       "<tr>\n",
       "  <th>Model Family:</th>        <td>Binomial</td>     <th>  Df Model:          </th>  <td>     4</td> \n",
       "</tr>\n",
       "<tr>\n",
       "  <th>Link Function:</th>         <td>Logit</td>      <th>  Scale:             </th> <td>  1.0000</td>\n",
       "</tr>\n",
       "<tr>\n",
       "  <th>Method:</th>                <td>IRLS</td>       <th>  Log-Likelihood:    </th> <td> -252.46</td>\n",
       "</tr>\n",
       "<tr>\n",
       "  <th>Date:</th>            <td>Thu, 16 Nov 2023</td> <th>  Deviance:          </th> <td>  504.92</td>\n",
       "</tr>\n",
       "<tr>\n",
       "  <th>Time:</th>                <td>20:19:14</td>     <th>  Pearson chi2:      </th>  <td>  476.</td> \n",
       "</tr>\n",
       "<tr>\n",
       "  <th>No. Iterations:</th>          <td>5</td>        <th>  Pseudo R-squ. (CS):</th>  <td>0.1579</td> \n",
       "</tr>\n",
       "<tr>\n",
       "  <th>Covariance Type:</th>     <td>nonrobust</td>    <th>                     </th>     <td> </td>   \n",
       "</tr>\n",
       "</table>\n",
       "<table class=\"simpletable\">\n",
       "<tr>\n",
       "      <td></td>         <th>coef</th>     <th>std err</th>      <th>z</th>      <th>P>|z|</th>  <th>[0.025</th>    <th>0.975]</th>  \n",
       "</tr>\n",
       "<tr>\n",
       "  <th>intercept</th> <td>   -7.8762</td> <td>    0.970</td> <td>   -8.117</td> <td> 0.000</td> <td>   -9.778</td> <td>   -5.974</td>\n",
       "</tr>\n",
       "<tr>\n",
       "  <th>lpopl1</th>    <td>    0.6990</td> <td>    0.126</td> <td>    5.556</td> <td> 0.000</td> <td>    0.452</td> <td>    0.946</td>\n",
       "</tr>\n",
       "<tr>\n",
       "  <th>lmtnest</th>   <td>    0.3892</td> <td>    0.105</td> <td>    3.692</td> <td> 0.000</td> <td>    0.183</td> <td>    0.596</td>\n",
       "</tr>\n",
       "<tr>\n",
       "  <th>ethfrac</th>   <td>    1.1001</td> <td>    0.589</td> <td>    1.869</td> <td> 0.062</td> <td>   -0.053</td> <td>    2.254</td>\n",
       "</tr>\n",
       "<tr>\n",
       "  <th>relfrac</th>   <td>   -1.6334</td> <td>    0.719</td> <td>   -2.273</td> <td> 0.023</td> <td>   -3.042</td> <td>   -0.225</td>\n",
       "</tr>\n",
       "</table>"
      ],
      "text/latex": [
       "\\begin{center}\n",
       "\\begin{tabular}{lclc}\n",
       "\\toprule\n",
       "\\textbf{Dep. Variable:}   &    any\\_prio     & \\textbf{  No. Observations:  } &      517    \\\\\n",
       "\\textbf{Model:}           &       GLM        & \\textbf{  Df Residuals:      } &      512    \\\\\n",
       "\\textbf{Model Family:}    &     Binomial     & \\textbf{  Df Model:          } &        4    \\\\\n",
       "\\textbf{Link Function:}   &      Logit       & \\textbf{  Scale:             } &    1.0000   \\\\\n",
       "\\textbf{Method:}          &       IRLS       & \\textbf{  Log-Likelihood:    } &   -252.46   \\\\\n",
       "\\textbf{Date:}            & Thu, 16 Nov 2023 & \\textbf{  Deviance:          } &    504.92   \\\\\n",
       "\\textbf{Time:}            &     20:19:14     & \\textbf{  Pearson chi2:      } &     476.    \\\\\n",
       "\\textbf{No. Iterations:}  &        5         & \\textbf{  Pseudo R-squ. (CS):} &   0.1579    \\\\\n",
       "\\textbf{Covariance Type:} &    nonrobust     & \\textbf{                     } &             \\\\\n",
       "\\bottomrule\n",
       "\\end{tabular}\n",
       "\\begin{tabular}{lcccccc}\n",
       "                   & \\textbf{coef} & \\textbf{std err} & \\textbf{z} & \\textbf{P$> |$z$|$} & \\textbf{[0.025} & \\textbf{0.975]}  \\\\\n",
       "\\midrule\n",
       "\\textbf{intercept} &      -7.8762  &        0.970     &    -8.117  &         0.000        &       -9.778    &       -5.974     \\\\\n",
       "\\textbf{lpopl1}    &       0.6990  &        0.126     &     5.556  &         0.000        &        0.452    &        0.946     \\\\\n",
       "\\textbf{lmtnest}   &       0.3892  &        0.105     &     3.692  &         0.000        &        0.183    &        0.596     \\\\\n",
       "\\textbf{ethfrac}   &       1.1001  &        0.589     &     1.869  &         0.062        &       -0.053    &        2.254     \\\\\n",
       "\\textbf{relfrac}   &      -1.6334  &        0.719     &    -2.273  &         0.023        &       -3.042    &       -0.225     \\\\\n",
       "\\bottomrule\n",
       "\\end{tabular}\n",
       "%\\caption{Generalized Linear Model Regression Results}\n",
       "\\end{center}"
      ],
      "text/plain": [
       "<class 'statsmodels.iolib.summary.Summary'>\n",
       "\"\"\"\n",
       "                 Generalized Linear Model Regression Results                  \n",
       "==============================================================================\n",
       "Dep. Variable:               any_prio   No. Observations:                  517\n",
       "Model:                            GLM   Df Residuals:                      512\n",
       "Model Family:                Binomial   Df Model:                            4\n",
       "Link Function:                  Logit   Scale:                          1.0000\n",
       "Method:                          IRLS   Log-Likelihood:                -252.46\n",
       "Date:                Thu, 16 Nov 2023   Deviance:                       504.92\n",
       "Time:                        20:19:14   Pearson chi2:                     476.\n",
       "No. Iterations:                     5   Pseudo R-squ. (CS):             0.1579\n",
       "Covariance Type:            nonrobust                                         \n",
       "==============================================================================\n",
       "                 coef    std err          z      P>|z|      [0.025      0.975]\n",
       "------------------------------------------------------------------------------\n",
       "intercept     -7.8762      0.970     -8.117      0.000      -9.778      -5.974\n",
       "lpopl1         0.6990      0.126      5.556      0.000       0.452       0.946\n",
       "lmtnest        0.3892      0.105      3.692      0.000       0.183       0.596\n",
       "ethfrac        1.1001      0.589      1.869      0.062      -0.053       2.254\n",
       "relfrac       -1.6334      0.719     -2.273      0.023      -3.042      -0.225\n",
       "==============================================================================\n",
       "\"\"\""
      ]
     },
     "execution_count": 5,
     "metadata": {},
     "output_type": "execute_result"
    }
   ],
   "source": [
    "x1=MS(data.columns.drop(['any_prio','year','polity2l','Oil','gdp_g','gdp_g_l'])).fit_transform(data)\n",
    "train_x1, test_x1 = x1.loc[train], x1.loc[~train]\n",
    "train_y,test_y =  y.loc[train],y.loc[~train]     \n",
    "glm = sm.GLM(train_y,\n",
    "             train_x1,\n",
    "             family=sm.families.Binomial())\n",
    "results1=glm.fit()\n",
    "results1.summary()"
   ]
  },
  {
   "cell_type": "code",
   "execution_count": 6,
   "id": "6cf7bb06-6fcb-4130-80bb-9e60a313259e",
   "metadata": {
    "tags": []
   },
   "outputs": [
    {
     "data": {
      "text/plain": [
       "[Text(0, 0.5, 'No'), Text(0, 1.5, 'Yes')]"
      ]
     },
     "execution_count": 6,
     "metadata": {},
     "output_type": "execute_result"
    },
    {
     "data": {
      "image/png": "[encoded data removed]",
      "text/plain": [
       "<Figure size 640x480 with 2 Axes>"
      ]
     },
     "metadata": {},
     "output_type": "display_data"
    }
   ],
   "source": [
    "probs1= results1.predict(exog=test_x1)\n",
    "pred1=np.array(['No']*226).astype('<U3')\n",
    "pred1[probs1>0.5]='Yes'\n",
    "cm=confusion_matrix(data.any_prio.loc[~train],pred1)\n",
    "ax= plt.subplot()\n",
    "sns.heatmap(cm, annot=True, fmt='g', ax=ax);  #annot=True to annotate cells, ftm='g' to disable scientific notation\n",
    "\n",
    "# labels, title and ticks\n",
    "ax.set_xlabel('Predicted labels');ax.set_ylabel('True labels'); \n",
    "ax.set_title('Confusion Matrix'); \n",
    "ax.xaxis.set_ticklabels(['No', 'Yes']); ax.yaxis.set_ticklabels(['No', 'Yes'])\n"
   ]
  },
  {
   "cell_type": "code",
   "execution_count": 7,
   "id": "398ed37f-3c9a-4953-b1a8-6721922de967",
   "metadata": {
    "tags": []
   },
   "outputs": [
    {
     "data": {
      "text/plain": [
       "('Accuracy : 64.60%', 'Accuracy of predicting Yes: 30.00%')"
      ]
     },
     "execution_count": 7,
     "metadata": {},
     "output_type": "execute_result"
    }
   ],
   "source": [
    "'Accuracy : {:.2%}'.format(np.mean(pred1 == data.any_prio.loc[~train])) , 'Accuracy of predicting Yes: {:.2%}'.format(cm[1,1]/(cm[0,1]+cm[1,1]))"
   ]
  },
  {
   "cell_type": "markdown",
   "id": "b54f472b-f29e-4c84-92ff-04d41d6e8138",
   "metadata": {},
   "source": [
    "Despite the fact that the model's accuracy climbed to 64.6%, the independent factors we eliminated play a substantial impact in creating civil unrest in Sub-Saharan Africa. So, we will explore different method and see if we can increase the accuracy with all the variables.\n",
    "\n",
    "We will start with linear discriminant analysis and then move on to naive bayes and K-Nearest Neighbour Classifier.\n",
    "\n",
    "### LINEAR DISCRIMINANT ANALYSIS\n",
    "LDA is a statistical method which reduces the number of variables while retaining all the important information to find the best linear combination of variables that seperates the classes."
   ]
  },
  {
   "cell_type": "code",
   "execution_count": 23,
   "id": "7346f6c4-b586-4b07-b8e6-d71e21432e44",
   "metadata": {},
   "outputs": [
    {
     "data": {
      "image/png": "[encoded data removed]",
      "text/plain": [
       "<Figure size 640x480 with 2 Axes>"
      ]
     },
     "metadata": {},
     "output_type": "display_data"
    }
   ],
   "source": [
    "lda_result=LDA(store_covariance=True).fit(train_x,train_y)\n",
    "lda_pred = lda_result.predict(test_x)\n",
    "cm=confusion_matrix(test_y,lda_pred)\n",
    "ax= plt.subplot()\n",
    "sns.heatmap(cm, annot=True, fmt='g', ax=ax);  #annot=True to annotate cells, ftm='g' to disable scientific notation\n",
    "\n",
    "# labels, title and ticks\n",
    "ax.set_xlabel('Predicted labels');ax.set_ylabel('True labels'); \n",
    "ax.set_title('Confusion Matrix'); \n",
    "ax.xaxis.set_ticklabels(['No', 'Yes']); ax.yaxis.set_ticklabels(['No', 'Yes']);"
   ]
  },
  {
   "cell_type": "code",
   "execution_count": 9,
   "id": "147720a9-cac4-421c-8af4-dd10b2f0d488",
   "metadata": {
    "tags": []
   },
   "outputs": [
    {
     "data": {
      "text/plain": [
       "'Overall Accuracy : 63.27%'"
      ]
     },
     "execution_count": 9,
     "metadata": {},
     "output_type": "execute_result"
    }
   ],
   "source": [
    "'Overall Accuracy : {:.2%}'.format(np.mean(lda_pred == data.any_prio.loc[~train]))"
   ]
  },
  {
   "cell_type": "code",
   "execution_count": 10,
   "id": "0a2ed1d3-730b-44ca-baa4-d04e51e55001",
   "metadata": {
    "tags": []
   },
   "outputs": [
    {
     "data": {
      "text/plain": [
       "'Accuracy of predicting Yes: 29.79%'"
      ]
     },
     "execution_count": 10,
     "metadata": {},
     "output_type": "execute_result"
    }
   ],
   "source": [
    "'Accuracy of predicting Yes: {:.2%}'.format(cm[1,1]/(cm[0,1]+cm[1,1]))"
   ]
  },
  {
   "cell_type": "markdown",
   "id": "ae6a11d8-7954-4ffd-a268-6238ebbc1b14",
   "metadata": {},
   "source": [
    "We can see that number of yes accurately predicted has increased but overall accuracy of the model remained same.\n",
    "\n",
    "### NAIVE BAYES\n",
    "Naive Bayes is a simple and probabilistic machine learning algorithm based on Bayes' theorem. It is particularly popular for classification tasks. The \"naive\" in Naive Bayes stems from the assumption that features used to describe an observation are conditionally independent, given the class label. Despite this simplifying assumption, Naive Bayes often performs well and is computationally efficient."
   ]
  },
  {
   "cell_type": "code",
   "execution_count": 24,
   "id": "8130358f-1c9e-4e17-a686-4c6ad1c5956d",
   "metadata": {
    "tags": []
   },
   "outputs": [
    {
     "data": {
      "text/plain": [
       "[Text(0, 0.5, 'No'), Text(0, 1.5, 'Yes')]"
      ]
     },
     "execution_count": 24,
     "metadata": {},
     "output_type": "execute_result"
    },
    {
     "data": {
      "image/png": "[encoded data removed]",
      "text/plain": [
       "<Figure size 640x480 with 2 Axes>"
      ]
     },
     "metadata": {},
     "output_type": "display_data"
    }
   ],
   "source": [
    "NB = GaussianNB()\n",
    "NB.fit(train_x,train_y)\n",
    "nb_pred = NB.predict(test_x)\n",
    "cm=confusion_matrix(test_y,nb_pred)\n",
    "ax= plt.subplot()\n",
    "sns.heatmap(cm, annot=True, fmt='g', ax=ax);  #annot=True to annotate cells, ftm='g' to disable scientific notation\n",
    "\n",
    "# labels, title and ticks\n",
    "ax.set_xlabel('Predicted labels');ax.set_ylabel('True labels'); \n",
    "ax.set_title('Confusion Matrix'); \n",
    "ax.xaxis.set_ticklabels(['No', 'Yes']); ax.yaxis.set_ticklabels(['No', 'Yes'])"
   ]
  },
  {
   "cell_type": "code",
   "execution_count": 12,
   "id": "81c827dd-a72b-4e79-a0fd-c8de446dcdfc",
   "metadata": {
    "tags": []
   },
   "outputs": [
    {
     "data": {
      "text/plain": [
       "('Overall Accuracy : 69.91%', 'Accuracy of predicting Yes: 45.65%')"
      ]
     },
     "execution_count": 12,
     "metadata": {},
     "output_type": "execute_result"
    }
   ],
   "source": [
    "'Overall Accuracy : {:.2%}'.format(np.mean(nb_pred == data.any_prio.loc[~train])),'Accuracy of predicting Yes: {:.2%}'.format(cm[1,1]/(cm[0,1]+cm[1,1]))"
   ]
  },
  {
   "cell_type": "markdown",
   "id": "e7184f1d-57e0-428a-b1ec-3863bbbe4725",
   "metadata": {},
   "source": [
    "As we can see prediction of having civil unrest went up by 16% while overall accuracy only increased by 6%.\n",
    "\n",
    "## K-NEAREST NEIGHBOURS\n",
    "Lastly, we will use K-Nearest Neighbours method which is simple and  used machine learning algorithm for classification and regression tasks. It's a type of instance-based or lazy learning, where the algorithm memorizes the training dataset and makes predictions for new data points based on their similarity to existing examples. \n",
    "\n",
    "Since the KNN classifier predicts the class of a given test\n",
    "observation by identifying the observations that are nearest to it,\n",
    "the scale of the variables matters. Any variables that are on a large\n",
    "scale will have a much larger effect on the *distance* between\n",
    "the observations, and hence on the KNN classifier, than variables that\n",
    "are on a small scale.A good way to handle this problem is to *standardize*  the data so that all variables are\n",
    "given a mean of zero and a standard deviation of one. Then all\n",
    "variables will be on a comparable scale. Then, this transformation can be fit\n",
    "and then applied to arbitrary data."
   ]
  },
  {
   "cell_type": "code",
   "execution_count": 13,
   "id": "ddfbb07b-5062-4127-bc71-47099582e35b",
   "metadata": {
    "tags": []
   },
   "outputs": [
    {
     "data": {
      "text/plain": [
       "lpopl1      1.000674\n",
       "lmtnest     1.000674\n",
       "Oil         1.000674\n",
       "ethfrac     1.000674\n",
       "relfrac     1.000674\n",
       "polity2l    1.000674\n",
       "gdp_g       1.000674\n",
       "gdp_g_l     1.000674\n",
       "dtype: float64"
      ]
     },
     "execution_count": 13,
     "metadata": {},
     "output_type": "execute_result"
    }
   ],
   "source": [
    "feature_df =data.drop(columns=['any_prio','year'])\n",
    "scaler = StandardScaler(with_mean=True,\n",
    "                        with_std=True,\n",
    "                        copy=True)\n",
    "scaler.fit(feature_df)\n",
    "X_std = scaler.transform(feature_df)\n",
    "feature_std = pd.DataFrame(\n",
    "                 X_std,\n",
    "                 columns=feature_df.columns);\n",
    "feature_std.std()"
   ]
  },
  {
   "cell_type": "markdown",
   "id": "30490d79-fb44-4b78-bdda-ff893edc0d4e",
   "metadata": {},
   "source": [
    "Now every column of `feature_std` below has a standard deviation of\n",
    "one and a mean of zero.Notice that the standard deviations are not quite $1$ here; this is again due to some procedures using the $1/n$ convention for variances (in this case `scaler()`), while others use $1/(n-1)$.\n",
    "\n",
    "we wil now split the observations into a test set at random,\n",
    "containing 226 observations which is one-third of total observations, and a training set containing the remaining\n",
    "observations."
   ]
  },
  {
   "cell_type": "code",
   "execution_count": 14,
   "id": "32fa1d43-b80b-4af6-9d7d-fbb0920fc76f",
   "metadata": {
    "tags": []
   },
   "outputs": [],
   "source": [
    "(X_train,\n",
    " X_test,\n",
    " y_train,\n",
    " y_test) = train_test_split(np.asarray(feature_std),\n",
    "                            data.any_prio,\n",
    "                            test_size=226,\n",
    "                            random_state=0)\n"
   ]
  },
  {
   "cell_type": "markdown",
   "id": "e66cffa2-4875-433b-8645-2319798c8c05",
   "metadata": {},
   "source": [
    "Now we will check for every hyperparameter in range 1 to 6 to see how the classifier performs since we do not know priorly what value to use."
   ]
  },
  {
   "cell_type": "code",
   "execution_count": 43,
   "id": "37eee537-eb38-4a0b-acd2-7a93d7d1c957",
   "metadata": {
    "tags": []
   },
   "outputs": [
    {
     "name": "stdout",
     "output_type": "stream",
     "text": [
      "K=1: # predicted to have civilwar: 68,  # how many had 43, accuracy 63.2%\n",
      "K=2: # predicted to have civilwar: 28,  # how many had 25, accuracy 89.3%\n",
      "K=3: # predicted to have civilwar: 54,  # how many had 42, accuracy 77.8%\n",
      "K=4: # predicted to have civilwar: 36,  # how many had 33, accuracy 91.7%\n",
      "K=5: # predicted to have civilwar: 46,  # how many had 39, accuracy 84.8%\n"
     ]
    },
    {
     "data": {
      "image/png": "[encoded data removed]",
      "text/plain": [
       "<Figure size 640x480 with 1 Axes>"
      ]
     },
     "metadata": {},
     "output_type": "display_data"
    }
   ],
   "source": [
    "kdf=pd.DataFrame(columns=['K','Accuracy'])\n",
    "for K in range(1,6):\n",
    "    knn = KNeighborsClassifier(n_neighbors=K)\n",
    "    knn_pred = knn.fit(X_train, y_train).predict(X_test)\n",
    "    C = confusion_table(knn_pred, y_test)\n",
    "    templ = ('K={0:d}: # predicted to have civilwar: {1:>2},' +\n",
    "            '  # how many had {2:d}, accuracy {3:.1%}')\n",
    "    pred = C.loc['Yes'].sum()\n",
    "    had_war = C.loc['Yes','Yes']\n",
    "    kdf.loc[K]= ['K='+str(K)] + [(had_war / pred)*100]\n",
    "    print(templ.format(\n",
    "          K,\n",
    "          pred,\n",
    "          had_war,\n",
    "          had_war / pred))\n",
    "sns.set_style('darkgrid')\n",
    "sns.barplot(x='K',y='Accuracy',data=kdf,width=0.4, color='salmon',edgecolor='black')\n",
    "plt.show()    "
   ]
  },
  {
   "cell_type": "markdown",
   "id": "4afd28c3-ed72-42d3-87f7-d00f14d73f41",
   "metadata": {},
   "source": [
    "Most of the correct predictions are for k=1 which is far better than any of the methods we used but KNN predicts more accurately when k=4,. The error rate is minimum at k=4 and maximum in k=1."
   ]
  }
 ],
 "metadata": {
  "kernelspec": {
   "display_name": "Python 3 (ipykernel)",
   "language": "python",
   "name": "python3"
  },
  "language_info": {
   "codemirror_mode": {
    "name": "ipython",
    "version": 3
   },
   "file_extension": ".py",
   "mimetype": "text/x-python",
   "name": "python",
   "nbconvert_exporter": "python",
   "pygments_lexer": "ipython3",
   "version": "3.11.4"
  }
 },
 "nbformat": 4,
 "nbformat_minor": 5
}
